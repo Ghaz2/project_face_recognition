{
 "cells": [
  {
   "cell_type": "markdown",
   "id": "bfd0f485",
   "metadata": {},
   "source": [
    "# 1 Face Detection"
   ]
  },
  {
   "cell_type": "markdown",
   "id": "888f464d",
   "metadata": {},
   "source": [
    "## 1.1 Detect Face"
   ]
  },
  {
   "cell_type": "code",
   "execution_count": 1,
   "id": "4c884250",
   "metadata": {},
   "outputs": [
    {
     "ename": "ModuleNotFoundError",
     "evalue": "No module named 'face_recognition'",
     "output_type": "error",
     "traceback": [
      "\u001b[1;31m---------------------------------------------------------------------------\u001b[0m",
      "\u001b[1;31mModuleNotFoundError\u001b[0m                       Traceback (most recent call last)",
      "Input \u001b[1;32mIn [1]\u001b[0m, in \u001b[0;36m<cell line: 1>\u001b[1;34m()\u001b[0m\n\u001b[1;32m----> 1\u001b[0m \u001b[38;5;28;01mimport\u001b[39;00m \u001b[38;5;21;01mface_recognition\u001b[39;00m\n\u001b[0;32m      3\u001b[0m \u001b[38;5;66;03m#input image\u001b[39;00m\n\u001b[0;32m      4\u001b[0m image_input \u001b[38;5;241m=\u001b[39m \u001b[38;5;124m\"\u001b[39m\u001b[38;5;124mgroup.jpg\u001b[39m\u001b[38;5;124m\"\u001b[39m\n",
      "\u001b[1;31mModuleNotFoundError\u001b[0m: No module named 'face_recognition'"
     ]
    }
   ],
   "source": [
    "import face_recognition\n",
    "\n",
    "#input image\n",
    "image_input = \"group.jpg\"\n",
    "\n",
    "img_FR = face_recognition.load_image_file(image_input)\n",
    "face_locations = face_recognition.face_locations(img_FR)\n",
    "\n",
    "print(face_locations)\n",
    "\n",
    "# Is there any faces in the image?\n",
    "if len(face_locations) == 0:\n",
    "      print(\"There are no faces detected.\")\n",
    "elif len(face_locations) == 1:\n",
    "      print(\"There is only one face detected.\")\n",
    "elif len(\"face_locations\") > 1:\n",
    "      print(\"There are %i faces detected.\" %len(face_locations))\n",
    "        "
   ]
  },
  {
   "cell_type": "markdown",
   "id": "20bdf0bf",
   "metadata": {},
   "source": [
    "# 1.2 Display the image"
   ]
  },
  {
   "cell_type": "code",
   "execution_count": 76,
   "id": "624d8126",
   "metadata": {},
   "outputs": [
    {
     "name": "stdout",
     "output_type": "stream",
     "text": [
      "[(82, 765, 350, 498), (133, 1164, 288, 1010), (170, 348, 491, 27)]\n",
      "There are 3 faces detected.\n"
     ]
    }
   ],
   "source": [
    "import face_recognition\n",
    "from PIL import Image\n",
    "\n",
    "#input image\n",
    "image_input = \"group.jpg\"\n",
    "\n",
    "img_FR = face_recognition.load_image_file(image_input)\n",
    "face_locations = face_recognition.face_locations(img_FR)\n",
    "\n",
    "print(face_locations)\n",
    "\n",
    "# Is there any faces in the image?\n",
    "if len(face_locations) == 0:\n",
    "      print(\"There are no faces detected.\")\n",
    "elif len(face_locations) == 1:\n",
    "      print(\"There is only one face detected.\")\n",
    "elif len(\"face_locations\") > 1:\n",
    "      print(\"There are %i faces detected.\" %len(face_locations))\n",
    "        \n",
    "\n",
    "# Display the image\n",
    "img_PIL = Image.fromarray(img_FR)\n",
    "img_PIL.show()\n",
    "\n",
    "        "
   ]
  },
  {
   "cell_type": "markdown",
   "id": "deafacb6",
   "metadata": {},
   "source": [
    "# 1.3 Drawing Bounding Boxes on the faces"
   ]
  },
  {
   "cell_type": "code",
   "execution_count": 101,
   "id": "c5ad5a15",
   "metadata": {},
   "outputs": [
    {
     "name": "stdout",
     "output_type": "stream",
     "text": [
      "[(82, 765, 350, 498), (133, 1164, 288, 1010), (170, 348, 491, 27)]\n",
      "There are 3 faces detected.\n"
     ]
    }
   ],
   "source": [
    "import face_recognition\n",
    "from PIL import Image, ImageDraw\n",
    "\n",
    "#input image\n",
    "image_input = \"group.jpg\"\n",
    "\n",
    "img_FR = face_recognition.load_image_file(image_input)\n",
    "face_locations = face_recognition.face_locations(img_FR)\n",
    "\n",
    "print(face_locations)\n",
    "\n",
    "# Is there any faces in the image?\n",
    "if len(face_locations) == 0:\n",
    "      print(\"There are no faces detected.\")\n",
    "elif len(face_locations) == 1:\n",
    "      print(\"There is only one face detected.\")\n",
    "elif len(\"face_locations\") > 1:\n",
    "      print(\"There are %i faces detected.\" %len(face_locations))\n",
    "        \n",
    "\n",
    "# Display the image\n",
    "img_PIL = Image.fromarray(img_FR)\n",
    "\n",
    "draw = ImageDraw.Draw(img_PIL)\n",
    "# draw.rectangle(((left, top),(right, bottom)) , outline = color , width = size)\n",
    "draw.rectangle(((498, 82),(765, 350)) , outline = (255, 0, 0) , width = 3)\n",
    "draw.rectangle(((1010, 133),(1164, 288)) , outline = (0, 255, 0) , width = 3)\n",
    "draw.rectangle(((27, 170),(348, 491)) , outline = (0, 0, 255) , width = 3)\n",
    "\n",
    "img_PIL.show()\n",
    "\n",
    "        "
   ]
  },
  {
   "cell_type": "markdown",
   "id": "fd050f3e",
   "metadata": {},
   "source": [
    "# 2 Face Recognition"
   ]
  },
  {
   "cell_type": "markdown",
   "id": "0ca8318f",
   "metadata": {},
   "source": [
    "## 2.1 Compare Yes or No"
   ]
  },
  {
   "cell_type": "code",
   "execution_count": 103,
   "id": "ee58a805",
   "metadata": {},
   "outputs": [
    {
     "name": "stdout",
     "output_type": "stream",
     "text": [
      "This is a match!\n"
     ]
    }
   ],
   "source": [
    "import face_recognition\n",
    "from PIL import Image, ImageDraw\n",
    "\n",
    "#known image\n",
    "image_known = face_recognition.load_image_file(\"known/MorganFreeman.jpg\")\n",
    "encoding_known = face_recognition.face_encodings(image_known)[0]\n",
    "\n",
    "#unknown image\n",
    "image_unknown = face_recognition.load_image_file(\"unknown/img1.jpg\")\n",
    "encoding_unknown = face_recognition.face_encodings(image_unknown)[0]\n",
    "\n",
    "#compare 2 images(1)\n",
    "matches = face_recognition.compare_faces( [encoding_known],encoding_unknown)\n",
    "\n",
    "if matches[0]:\n",
    "    print(\"This is a match!\")\n",
    "    \n",
    "else:\n",
    "    print(\"This is not a match!\")\n",
    "    \n",
    "# display the two pictures\n",
    "img_PIL1 = Image.fromarray(image_known)\n",
    "img_PIL2 = Image.fromarray(image_unknown)\n",
    "\n",
    "img_PIL1.show()\n",
    "img_PIL2.show()\n",
    "\n"
   ]
  },
  {
   "cell_type": "code",
   "execution_count": 104,
   "id": "68c7f140",
   "metadata": {},
   "outputs": [
    {
     "name": "stdout",
     "output_type": "stream",
     "text": [
      "This is not a match!\n"
     ]
    }
   ],
   "source": [
    "import face_recognition\n",
    "from PIL import Image, ImageDraw\n",
    "\n",
    "#known image\n",
    "image_known = face_recognition.load_image_file(\"known/MorganFreeman.jpg\")\n",
    "encoding_known = face_recognition.face_encodings(image_known)[0]\n",
    "\n",
    "#unknown image\n",
    "image_unknown = face_recognition.load_image_file(\"unknown/img2.jpg\")\n",
    "encoding_unknown = face_recognition.face_encodings(image_unknown)[0]\n",
    "\n",
    "#compare 2 images(2)\n",
    "matches = face_recognition.compare_faces( [encoding_known],encoding_unknown)\n",
    "\n",
    "if matches[0]:\n",
    "    print(\"This is a match!\")\n",
    "    \n",
    "else:\n",
    "    print(\"This is not a match!\")\n",
    "    \n",
    "# display the two pictures\n",
    "img_PIL1 = Image.fromarray(image_known)\n",
    "img_PIL2 = Image.fromarray(image_unknown)\n",
    "\n",
    "img_PIL1.show()\n",
    "img_PIL2.show()\n"
   ]
  },
  {
   "cell_type": "markdown",
   "id": "11bd184a",
   "metadata": {},
   "source": [
    "# 2.2 Identify the Faces"
   ]
  },
  {
   "cell_type": "code",
   "execution_count": 105,
   "id": "1e3047bd",
   "metadata": {},
   "outputs": [
    {
     "name": "stdout",
     "output_type": "stream",
     "text": [
      "\n",
      "Name: Kim So-yeon\n",
      "Confidence: 0.94\n",
      "\n",
      "Name: MorganFreeman\n",
      "Confidence: 1.03\n"
     ]
    }
   ],
   "source": [
    "import face_recognition\n",
    "from PIL import Image, ImageDraw\n",
    "import numpy as np\n",
    "\n",
    "image_input = \"group.jpg\"\n",
    "\n",
    "# known images\n",
    "\n",
    "image_KS = face_recognition.load_image_file(\"known/Kim So-yeon.jpg\")\n",
    "encoding_KS = face_recognition.face_encodings(image_KS)[0]\n",
    "\n",
    "image_MF = face_recognition.load_image_file(\"known/MorganFreeman.jpg\")\n",
    "encoding_MF = face_recognition.face_encodings(image_MF)[0]\n",
    "\n",
    "# Create arrays of encodings and names\n",
    "known_face_encodings = [\n",
    "    encoding_KS,\n",
    "    encoding_MF\n",
    "]\n",
    "\n",
    "known_face_names = [\n",
    "    \n",
    "    \"Kim So-yeon\" ,\n",
    "    \"MorganFreeman\"\n",
    "]\n",
    "\n",
    "\n",
    "# Unknown images\n",
    "\n",
    "test_image = face_recognition.load_image_file(image_input)\n",
    "test_face_locations = face_recognition.face_locations(test_image)\n",
    "test_face_encodings = face_recognition.face_encodings(test_image, test_face_locations)\n",
    "\n",
    "# Display the output\n",
    "img_PIL = Image.fromarray(test_image)\n",
    "\n",
    "# To draw the bounding boxes\n",
    "draw = ImageDraw.Draw(img_PIL)\n",
    "\n",
    "# Loop through all the faces in test image\n",
    "for (topY, rightX, bottomY, leftX), test_face_encoding in zip(test_face_locations,test_face_encodings):\n",
    "    matches = face_recognition.compare_faces(known_face_encodings, test_face_encoding)\n",
    "    \n",
    "    name = \"Unknown\"\n",
    "    \n",
    "    # If match\n",
    "    if True in matches:\n",
    "        index = matches.index(True)\n",
    "        name = known_face_names[index]\n",
    "        confidence_level = face_recognition.face_distance(known_face_encodings,test_face_encoding)\n",
    "        print(\"\\nName:\", name)\n",
    "        print(\"Confidence:\", round(np.amax(confidence_level),2))\n",
    "        \n",
    "        # draw box\n",
    "        draw.rectangle(\n",
    "           ((leftX,topY),(rightX,bottomY)),\n",
    "            outline = (255,255,0) , width = 3)\n",
    "        draw.text((leftX,topY - 20) , str(name)+\"  \" + str(round(np.amax(confidence_level),2)),fill = (255,255,0,255))\n",
    "        \n",
    "del draw\n",
    "    \n",
    "# display Image\n",
    "img_PIL.show()\n",
    "\n",
    "        \n",
    "        "
   ]
  },
  {
   "cell_type": "code",
   "execution_count": null,
   "id": "049efb59",
   "metadata": {},
   "outputs": [],
   "source": []
  },
  {
   "cell_type": "code",
   "execution_count": null,
   "id": "04f0d704",
   "metadata": {},
   "outputs": [],
   "source": []
  }
 ],
 "metadata": {
  "kernelspec": {
   "display_name": "Python 3 (ipykernel)",
   "language": "python",
   "name": "python3"
  },
  "language_info": {
   "codemirror_mode": {
    "name": "ipython",
    "version": 3
   },
   "file_extension": ".py",
   "mimetype": "text/x-python",
   "name": "python",
   "nbconvert_exporter": "python",
   "pygments_lexer": "ipython3",
   "version": "3.9.12"
  }
 },
 "nbformat": 4,
 "nbformat_minor": 5
}
